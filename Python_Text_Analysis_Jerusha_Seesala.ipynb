{
  "cells": [
    {
      "cell_type": "code",
      "execution_count": null,
      "metadata": {
        "id": "_AGN5xaUgrVd"
      },
      "outputs": [],
      "source": [
        "import pandas as pd\n",
        "import matplotlib.pyplot as plt\n",
        "import seaborn as sns\n",
        "import spacy\n",
        "import io"
      ]
    },
    {
      "cell_type": "code",
      "execution_count": null,
      "metadata": {
        "colab": {
          "background_save": true,
          "base_uri": "https://localhost:8080/",
          "height": 56
        },
        "id": "mCp5hGqcg_gS",
        "outputId": "c204214a-e806-4f29-c06b-ac4cbb749409"
      },
      "outputs": [
        {
          "data": {
            "text/html": [
              "\n",
              "     <input type=\"file\" id=\"files-ac2ef313-8c17-4021-ad24-e123d9b599a5\" name=\"files[]\" multiple disabled\n",
              "        style=\"border:none\" />\n",
              "     <output id=\"result-ac2ef313-8c17-4021-ad24-e123d9b599a5\">\n",
              "      Upload widget is only available when the cell has been executed in the\n",
              "      current browser session. Please rerun this cell to enable.\n",
              "      </output>\n",
              "      <script>// Copyright 2017 Google LLC\n",
              "//\n",
              "// Licensed under the Apache License, Version 2.0 (the \"License\");\n",
              "// you may not use this file except in compliance with the License.\n",
              "// You may obtain a copy of the License at\n",
              "//\n",
              "//      http://www.apache.org/licenses/LICENSE-2.0\n",
              "//\n",
              "// Unless required by applicable law or agreed to in writing, software\n",
              "// distributed under the License is distributed on an \"AS IS\" BASIS,\n",
              "// WITHOUT WARRANTIES OR CONDITIONS OF ANY KIND, either express or implied.\n",
              "// See the License for the specific language governing permissions and\n",
              "// limitations under the License.\n",
              "\n",
              "/**\n",
              " * @fileoverview Helpers for google.colab Python module.\n",
              " */\n",
              "(function(scope) {\n",
              "function span(text, styleAttributes = {}) {\n",
              "  const element = document.createElement('span');\n",
              "  element.textContent = text;\n",
              "  for (const key of Object.keys(styleAttributes)) {\n",
              "    element.style[key] = styleAttributes[key];\n",
              "  }\n",
              "  return element;\n",
              "}\n",
              "\n",
              "// Max number of bytes which will be uploaded at a time.\n",
              "const MAX_PAYLOAD_SIZE = 100 * 1024;\n",
              "\n",
              "function _uploadFiles(inputId, outputId) {\n",
              "  const steps = uploadFilesStep(inputId, outputId);\n",
              "  const outputElement = document.getElementById(outputId);\n",
              "  // Cache steps on the outputElement to make it available for the next call\n",
              "  // to uploadFilesContinue from Python.\n",
              "  outputElement.steps = steps;\n",
              "\n",
              "  return _uploadFilesContinue(outputId);\n",
              "}\n",
              "\n",
              "// This is roughly an async generator (not supported in the browser yet),\n",
              "// where there are multiple asynchronous steps and the Python side is going\n",
              "// to poll for completion of each step.\n",
              "// This uses a Promise to block the python side on completion of each step,\n",
              "// then passes the result of the previous step as the input to the next step.\n",
              "function _uploadFilesContinue(outputId) {\n",
              "  const outputElement = document.getElementById(outputId);\n",
              "  const steps = outputElement.steps;\n",
              "\n",
              "  const next = steps.next(outputElement.lastPromiseValue);\n",
              "  return Promise.resolve(next.value.promise).then((value) => {\n",
              "    // Cache the last promise value to make it available to the next\n",
              "    // step of the generator.\n",
              "    outputElement.lastPromiseValue = value;\n",
              "    return next.value.response;\n",
              "  });\n",
              "}\n",
              "\n",
              "/**\n",
              " * Generator function which is called between each async step of the upload\n",
              " * process.\n",
              " * @param {string} inputId Element ID of the input file picker element.\n",
              " * @param {string} outputId Element ID of the output display.\n",
              " * @return {!Iterable<!Object>} Iterable of next steps.\n",
              " */\n",
              "function* uploadFilesStep(inputId, outputId) {\n",
              "  const inputElement = document.getElementById(inputId);\n",
              "  inputElement.disabled = false;\n",
              "\n",
              "  const outputElement = document.getElementById(outputId);\n",
              "  outputElement.innerHTML = '';\n",
              "\n",
              "  const pickedPromise = new Promise((resolve) => {\n",
              "    inputElement.addEventListener('change', (e) => {\n",
              "      resolve(e.target.files);\n",
              "    });\n",
              "  });\n",
              "\n",
              "  const cancel = document.createElement('button');\n",
              "  inputElement.parentElement.appendChild(cancel);\n",
              "  cancel.textContent = 'Cancel upload';\n",
              "  const cancelPromise = new Promise((resolve) => {\n",
              "    cancel.onclick = () => {\n",
              "      resolve(null);\n",
              "    };\n",
              "  });\n",
              "\n",
              "  // Wait for the user to pick the files.\n",
              "  const files = yield {\n",
              "    promise: Promise.race([pickedPromise, cancelPromise]),\n",
              "    response: {\n",
              "      action: 'starting',\n",
              "    }\n",
              "  };\n",
              "\n",
              "  cancel.remove();\n",
              "\n",
              "  // Disable the input element since further picks are not allowed.\n",
              "  inputElement.disabled = true;\n",
              "\n",
              "  if (!files) {\n",
              "    return {\n",
              "      response: {\n",
              "        action: 'complete',\n",
              "      }\n",
              "    };\n",
              "  }\n",
              "\n",
              "  for (const file of files) {\n",
              "    const li = document.createElement('li');\n",
              "    li.append(span(file.name, {fontWeight: 'bold'}));\n",
              "    li.append(span(\n",
              "        `(${file.type || 'n/a'}) - ${file.size} bytes, ` +\n",
              "        `last modified: ${\n",
              "            file.lastModifiedDate ? file.lastModifiedDate.toLocaleDateString() :\n",
              "                                    'n/a'} - `));\n",
              "    const percent = span('0% done');\n",
              "    li.appendChild(percent);\n",
              "\n",
              "    outputElement.appendChild(li);\n",
              "\n",
              "    const fileDataPromise = new Promise((resolve) => {\n",
              "      const reader = new FileReader();\n",
              "      reader.onload = (e) => {\n",
              "        resolve(e.target.result);\n",
              "      };\n",
              "      reader.readAsArrayBuffer(file);\n",
              "    });\n",
              "    // Wait for the data to be ready.\n",
              "    let fileData = yield {\n",
              "      promise: fileDataPromise,\n",
              "      response: {\n",
              "        action: 'continue',\n",
              "      }\n",
              "    };\n",
              "\n",
              "    // Use a chunked sending to avoid message size limits. See b/62115660.\n",
              "    let position = 0;\n",
              "    do {\n",
              "      const length = Math.min(fileData.byteLength - position, MAX_PAYLOAD_SIZE);\n",
              "      const chunk = new Uint8Array(fileData, position, length);\n",
              "      position += length;\n",
              "\n",
              "      const base64 = btoa(String.fromCharCode.apply(null, chunk));\n",
              "      yield {\n",
              "        response: {\n",
              "          action: 'append',\n",
              "          file: file.name,\n",
              "          data: base64,\n",
              "        },\n",
              "      };\n",
              "\n",
              "      let percentDone = fileData.byteLength === 0 ?\n",
              "          100 :\n",
              "          Math.round((position / fileData.byteLength) * 100);\n",
              "      percent.textContent = `${percentDone}% done`;\n",
              "\n",
              "    } while (position < fileData.byteLength);\n",
              "  }\n",
              "\n",
              "  // All done.\n",
              "  yield {\n",
              "    response: {\n",
              "      action: 'complete',\n",
              "    }\n",
              "  };\n",
              "}\n",
              "\n",
              "scope.google = scope.google || {};\n",
              "scope.google.colab = scope.google.colab || {};\n",
              "scope.google.colab._files = {\n",
              "  _uploadFiles,\n",
              "  _uploadFilesContinue,\n",
              "};\n",
              "})(self);\n",
              "</script> "
            ],
            "text/plain": [
              "<IPython.core.display.HTML object>"
            ]
          },
          "metadata": {},
          "output_type": "display_data"
        }
      ],
      "source": [
        "# Importing the dataset\n",
        "from google.colab import files\n",
        "uploaded = files.upload()"
      ]
    },
    {
      "cell_type": "code",
      "execution_count": null,
      "metadata": {
        "id": "3wXtowGbhH5w"
      },
      "outputs": [],
      "source": [
        "# inputting some text\n",
        "texts = pd.read_csv(io.BytesIO(uploaded['comments.csv']))\n",
        "texts[\"comments\"] = texts[\"comments\"].str.replace(r\"\\\\\", \"\") \n",
        "texts"
      ]
    },
    {
      "cell_type": "code",
      "execution_count": null,
      "metadata": {
        "id": "Pfm2P9YvhUKH"
      },
      "outputs": [],
      "source": [
        "class LemmaTokenizer:\n",
        "    def __init__(self):\n",
        "        self.nlp = spacy.load(\"en_core_web_sm\")\n",
        "    def __call__(self, doc):\n",
        "      res = []\n",
        "      for token in self.nlp(doc):\n",
        "        if not token.is_punct and not token.like_num and len(token.lemma_) > 2: \n",
        "          res.append(token.lemma_) # lemmatize\n",
        "      return res"
      ]
    },
    {
      "cell_type": "code",
      "execution_count": null,
      "metadata": {
        "id": "LPRSa3sBhdVE"
      },
      "outputs": [],
      "source": [
        "class LemmaTokenizer:\n",
        "    def __init__(self):\n",
        "        self.nlp = spacy.load(\"en_core_web_sm\")\n",
        "    def __call__(self, doc):\n",
        "      res = []\n",
        "      for token in self.nlp(doc):\n",
        "        if not token.is_punct and not token.like_num and len(token.lemma_) > 2: # not punctuation or numbers and length > 2\n",
        "          res.append(token.lemma_) # lemmatize\n",
        "      return res"
      ]
    },
    {
      "cell_type": "code",
      "execution_count": null,
      "metadata": {
        "id": "RaZ-gyCdhmtT"
      },
      "outputs": [],
      "source": [
        "# Test the lemmatizer on one sentence first\n",
        "\n",
        "text = texts.loc[10,\"comments\"]\n",
        "lt = LemmaTokenizer()\n",
        "doc = lt(text)\n",
        "doc"
      ]
    },
    {
      "cell_type": "code",
      "execution_count": null,
      "metadata": {
        "id": "m0DcRA5Vhpr5"
      },
      "outputs": [],
      "source": [
        "# Removing stopwords, and converting the texts into a word count matrix\n",
        "from sklearn.feature_extraction.text import CountVectorizer\n",
        "ngram_range = (1,1) # unigram only\n",
        "vectorizer = CountVectorizer(lowercase=True,\n",
        "                             tokenizer=LemmaTokenizer(),\n",
        "                             stop_words = \"english\",  \n",
        "                             ngram_range = ngram_range\n",
        "                             )\n",
        "X = vectorizer.fit_transform(texts[\"comments\"])\n",
        "count_vect_df1 = pd.DataFrame(X.toarray(), columns=vectorizer.get_feature_names_out())\n",
        "count_vect_df1"
      ]
    },
    {
      "cell_type": "code",
      "execution_count": null,
      "metadata": {
        "id": "0__EkDQPh5yU"
      },
      "outputs": [],
      "source": [
        "# getting word frequency list\n",
        "word_frequency = count_vect_df1.sum(axis=0).sort_values(ascending=False).reset_index()\n",
        "word_frequency.columns = [\"word\", \"frequency\"]\n",
        "word_frequency"
      ]
    },
    {
      "cell_type": "code",
      "execution_count": null,
      "metadata": {
        "id": "odfceBTjiDQQ"
      },
      "outputs": [],
      "source": [
        "# plotting bar chart\n",
        "plt.style.use(\"seaborn\")\n",
        "fig, ax = plt.subplots(1, 1, figsize = (10,6))\n",
        "data = word_frequency.head(10)\n",
        "g=sns.barplot(data=data,\n",
        "              x=\"word\",\n",
        "              y=\"frequency\",\n",
        "              ax=ax\n",
        "            )\n",
        "ax.set_xticklabels(data[\"word\"], ha='right', rotation=45)\n",
        "plt.show()"
      ]
    },
    {
      "cell_type": "code",
      "execution_count": null,
      "metadata": {
        "id": "DRVDMuCMiNMM"
      },
      "outputs": [],
      "source": [
        "# bar chart showing the frequency for top 20 words. \n",
        "\n",
        "plt.style.use(\"seaborn\")\n",
        "fig, ax = plt.subplots(1, 1, figsize = (23,13))\n",
        "data = word_frequency.head(20)\n",
        "g=sns.barplot(data=data,\n",
        "              x=\"word\",\n",
        "              y=\"frequency\",\n",
        "              ax=ax\n",
        "            )\n",
        "\n",
        "plt.xlabel('Word', fontsize=25);\n",
        "plt.ylabel('Word Frequency', fontsize=25);\n",
        "plt.title('20 Most Common Words in Document', fontsize=30)\n",
        "plt.tick_params(axis='both', which='major', labelsize=16)\n",
        "\n",
        "plt.show()"
      ]
    },
    {
      "cell_type": "code",
      "execution_count": null,
      "metadata": {
        "id": "aHLZXCTfjCT3"
      },
      "outputs": [],
      "source": [
        "\n",
        "from wordcloud import WordCloud\n",
        "freq = word_frequency.set_index(\"word\").to_dict()['frequency'] \n",
        "\n",
        "fig, ax = plt.subplots(1, 1, figsize = (10,10))\n",
        "wc = WordCloud(background_color=\"white\",\n",
        "                prefer_horizontal = 1,\n",
        "                width=800,\n",
        "                height=700,\n",
        "                max_words=50,\n",
        "                relative_scaling=0.5,\n",
        "                colormap = \"BuPu\", \n",
        "                random_state= 2022)\n",
        "wc.generate_from_frequencies(freq)\n",
        "ax.imshow(wc)\n",
        "ax.axis(\"off\")\n",
        "plt.show()"
      ]
    },
    {
      "cell_type": "code",
      "execution_count": null,
      "metadata": {
        "id": "MJC6on2xlVWu"
      },
      "outputs": [],
      "source": [
        "\n",
        "\n",
        "import matplotlib.pyplot as plt\n",
        "\n",
        "freq = word_frequency.set_index(\"word\").to_dict()['frequency'] \n",
        "\n",
        "fig, ax = plt.subplots(1, 1, figsize = (10,10))\n",
        "wc = WordCloud(background_color=\"black\",\n",
        "                prefer_horizontal = 1,\n",
        "                width=800,\n",
        "                height=700,\n",
        "                max_words=40,\n",
        "                relative_scaling=0.5,\n",
        "                font_path = \"sans-serif.ttf\",\n",
        "                colormap = \"Wistia\", \n",
        "                random_state= 2022)\n",
        "wc.generate_from_frequencies(freq)\n",
        "ax.imshow(wc)\n",
        "ax.axis(\"off\")\n",
        "plt.show()"
      ]
    },
    {
      "cell_type": "code",
      "execution_count": null,
      "metadata": {
        "id": "oUBtm_YElGBJ"
      },
      "outputs": [],
      "source": [
        "# bigram matrix calculation\n",
        "ngram_range = (2,2)\n",
        "vectorizer = CountVectorizer(lowercase=True,\n",
        "                             tokenizer=LemmaTokenizer(),\n",
        "                             stop_words = \"english\",\n",
        "                             ngram_range = ngram_range\n",
        "                             )\n",
        "X = vectorizer.fit_transform(texts[\"comments\"])\n",
        "count_vect_df2 = pd.DataFrame(X.toarray(), columns=vectorizer.get_feature_names_out())\n",
        "count_vect_df2"
      ]
    },
    {
      "cell_type": "code",
      "execution_count": null,
      "metadata": {
        "id": "nnvwYnTWvbEg"
      },
      "outputs": [],
      "source": [
        "# getting the phrase frequency list\n",
        "word_frequency = count_vect_df2.sum(axis=0).sort_values(ascending=False).reset_index()\n",
        "word_frequency.columns = [\"word\", \"frequency\"]\n",
        "word_frequency"
      ]
    },
    {
      "cell_type": "code",
      "execution_count": null,
      "metadata": {
        "id": "aa2EWowevkFj"
      },
      "outputs": [],
      "source": [
        "# plotted bar chart\n",
        "plt.style.use(\"seaborn\")\n",
        "fig, ax = plt.subplots(1, 1, figsize = (10,6))\n",
        "data = word_frequency.head(30)\n",
        "g=sns.barplot(data=data,\n",
        "              x=\"word\",\n",
        "              y=\"frequency\",\n",
        "              ax=ax\n",
        "            )\n",
        "ax.set_xticklabels(data[\"word\"], ha='right', rotation=45)\n",
        "plt.show()"
      ]
    },
    {
      "cell_type": "code",
      "execution_count": null,
      "metadata": {
        "id": "QETN85YZvpk4"
      },
      "outputs": [],
      "source": [
        "# word cloud based on the bi-gram, i.e., 2-word phrase cloud\n",
        "\n",
        "\n",
        "freq = word_frequency.set_index(\"word_frequency\").to_dict()['frequency'] \n",
        "\n",
        "fig, ax = plt.subplots(1, 1, figsize = (10,10))\n",
        "wc = WordCloud(background_color=\"white\",\n",
        "                prefer_horizontal = 1,\n",
        "                width=800,\n",
        "                height=700,\n",
        "                max_words=20,\n",
        "                relative_scaling=0.5,\n",
        "                font_path = \"sans-serif.ttf\", \n",
        "                colormap = \"Wistia\", \n",
        "                random_state= 2022)\n",
        "wc.generate_from_frequencies(freq)\n",
        "ax.imshow(wc)\n",
        "ax.axis(\"off\")\n",
        "plt.show()"
      ]
    },
    {
      "cell_type": "code",
      "execution_count": null,
      "metadata": {
        "id": "nbL10ZM9v3QK"
      },
      "outputs": [],
      "source": [
        "ngram_range = (3,3)\n",
        "vectorizer = CountVectorizer(lowercase=True,\n",
        "                             tokenizer=LemmaTokenizer(),\n",
        "                             stop_words = \"english\",\n",
        "                             ngram_range = ngram_range\n",
        "                             )\n",
        "X = vectorizer.fit_transform(texts[\"comments\"])\n",
        "count_vect_df3 = pd.DataFrame(X.toarray(), columns=vectorizer.get_feature_names_out())\n",
        "count_vect_df3"
      ]
    },
    {
      "cell_type": "code",
      "execution_count": null,
      "metadata": {
        "id": "R2AJaDECv9px"
      },
      "outputs": [],
      "source": [
        "# getting the phrase frequency list\n",
        "word_frequency = count_vect_df3.sum(axis=0).sort_values(ascending=False).reset_index()\n",
        "word_frequency.columns = [\"word\", \"frequency\"]\n",
        "word_frequency\n"
      ]
    },
    {
      "cell_type": "code",
      "execution_count": null,
      "metadata": {
        "id": "favKbiETv-3R"
      },
      "outputs": [],
      "source": [
        "# plotted bar chart\n",
        "plt.style.use(\"seaborn\")\n",
        "fig, ax = plt.subplots(1, 1, figsize = (10,6))\n",
        "data = word_frequency.head(30)\n",
        "g=sns.barplot(data=data,\n",
        "              x=\"word\",\n",
        "              y=\"frequency\",\n",
        "              ax=ax\n",
        "            )\n",
        "ax.set_xticklabels(data[\"word\"], ha='right', rotation=45)\n",
        "plt.show()"
      ]
    },
    {
      "cell_type": "code",
      "execution_count": null,
      "metadata": {
        "id": "0zc7uiiSz_3E"
      },
      "outputs": [],
      "source": [
        "#word cloud based on the bi-gram, i.e., 2-word phrase cloud\n",
        "\n",
        "\n",
        "freq = word_frequency.set_index(\"word_frequency\").to_dict()['frequency'] # converted pandas dataframe to dictionary\n",
        "\n",
        "fig, ax = plt.subplots(1, 1, figsize = (10,10))\n",
        "wc = WordCloud(background_color=\"white\",\n",
        "                prefer_horizontal = 1,\n",
        "                width=800,\n",
        "                height=700,\n",
        "                max_words=40,\n",
        "                relative_scaling=0.5,\n",
        "                font_path = \"sans-serif.ttf\", \n",
        "                colormap = \"Wistia\", \n",
        "                random_state= 2022)\n",
        "wc.generate_from_frequencies(freq)\n",
        "ax.imshow(wc)\n",
        "ax.axis(\"off\")\n",
        "plt.show()"
      ]
    }
  ],
  "metadata": {
    "colab": {
      "provenance": []
    },
    "kernelspec": {
      "display_name": "Python 3",
      "name": "python3"
    },
    "language_info": {
      "name": "python"
    }
  },
  "nbformat": 4,
  "nbformat_minor": 0
}